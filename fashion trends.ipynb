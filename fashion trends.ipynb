{
 "cells": [
  {
   "cell_type": "markdown",
   "metadata": {},
   "source": [
    "# Fashion Trend Extractor"
   ]
  },
  {
   "cell_type": "markdown",
   "metadata": {},
   "source": [
    "Step 0: Settings things up"
   ]
  },
  {
   "cell_type": "code",
   "execution_count": 22,
   "metadata": {},
   "outputs": [],
   "source": [
    "# Import modules\n",
    "from openai import OpenAI\n",
    "import requests\n",
    "from bs4 import BeautifulSoup\n",
    "import random\n",
    "import time\n",
    "import os\n",
    "from dotenv import load_dotenv\n",
    "import sklearn\n",
    "from sklearn.feature_extraction.text import TfidfVectorizer\n",
    "from sklearn.cluster import KMeans\n",
    "import numpy as np\n",
    "from sklearn.metrics.pairwise import cosine_similarity"
   ]
  },
  {
   "cell_type": "code",
   "execution_count": 3,
   "metadata": {},
   "outputs": [
    {
     "name": "stdout",
     "output_type": "stream",
     "text": [
      "The API key is found.\n"
     ]
    }
   ],
   "source": [
    "# OpenAI API Key\n",
    "load_dotenv()\n",
    "OPENAI_API_KEY = os.getenv('OPENAI_API_KEYS')\n",
    "\n",
    "if OPENAI_API_KEY:\n",
    "    print(f\"The API key is found.\")\n",
    "else:\n",
    "    print(\"No API key found in the environment variables.\")"
   ]
  },
  {
   "cell_type": "code",
   "execution_count": 4,
   "metadata": {},
   "outputs": [],
   "source": [
    "# Headers to mimic a browser request\n",
    "headers = {\n",
    "        'User-Agent': 'Mozilla/5.0 (Windows NT 10.0; Win64; x64) AppleWebKit/537.36 (KHTML, like Gecko) Chrome/58.0.3029.110 Safari/537.3'\n",
    "}"
   ]
  },
  {
   "cell_type": "code",
   "execution_count": 5,
   "metadata": {},
   "outputs": [],
   "source": [
    "# Test OpenAI client\n",
    "openai = OpenAI(api_key=OPENAI_API_KEY)"
   ]
  },
  {
   "cell_type": "markdown",
   "metadata": {},
   "source": [
    "Step 1: Get HTML files"
   ]
  },
  {
   "cell_type": "code",
   "execution_count": 6,
   "metadata": {},
   "outputs": [],
   "source": [
    "urls = [\"https://www.vogue.com/\",\n",
    "             \"https://www.vogue.com/article/corduroy-pants#intcid=_vogue-verso-hp-trending_a5d8dd57-5bc8-447f-8eb9-98495b16e7f9_popular4-1\",\n",
    "             \"https://www.glamour.com/story/2024-fashion-trends\",\n",
    "             \"https://www.whowhatwear.com/fashion/trends/autumn-winter-2024-fashion-trends\",\n",
    "             \"https://www.nordstrom.com/browse/content/fall-fashion-trends\",\n",
    "             \"https://www.thewardrobeconsultant.com/blog/fall-fashion-trends-2024-style-guide\",\n",
    "             \"https://www.whowhatwear.com/fall-winter-fashion-trends-2024\",\n",
    "             \"https://www.travelandleisure.com/fall-fashion-trends-travel-clothes-september-2024-8707774\",\n",
    "             \n",
    "             ]"
   ]
  },
  {
   "cell_type": "code",
   "execution_count": 7,
   "metadata": {},
   "outputs": [],
   "source": [
    "# Function to extract text from a webpage given a URL with rate-limiting\n",
    "def extract_text_from_url(url, delay=2):\n",
    "    \"\"\"Scrape a URL with a delay between requests to prevent overloading servers.\"\"\"\n",
    "    # Headers to mimic a browser request\n",
    "    headers = {\n",
    "            'User-Agent': 'Mozilla/5.0 (Windows NT 10.0; Win64; x64) AppleWebKit/537.36 (KHTML, like Gecko) Chrome/58.0.3029.110 Safari/537.3'\n",
    "    }\n",
    "\n",
    "    try:\n",
    "        response = requests.get(url, headers)\n",
    "        if response.status_code == 200:\n",
    "            soup = BeautifulSoup(response.content, \"html.parser\")\n",
    "            # Rate limiting: sleep for `delay` seconds before returning text\n",
    "            time.sleep(delay)\n",
    "            return soup.get_text(separator=' ', strip=True)\n",
    "        else:\n",
    "            print(f\"Failed to retrieve {url}\")\n",
    "            return \"\"\n",
    "    except Exception as e:\n",
    "        print(f\"Error occurred while fetching {url}: {e}\")\n",
    "        return \"\""
   ]
  },
  {
   "cell_type": "code",
   "execution_count": 8,
   "metadata": {},
   "outputs": [],
   "source": [
    "# Extract text from each URL with rate limiting (2 seconds between requests)\n",
    "articles = [extract_text_from_url(url, delay=2) for url in urls]"
   ]
  },
  {
   "cell_type": "markdown",
   "metadata": {},
   "source": [
    "Step 2: Generating article embeddings"
   ]
  },
  {
   "cell_type": "code",
   "execution_count": 9,
   "metadata": {},
   "outputs": [],
   "source": [
    "def truncate_text(text, max_tokens=8000):\n",
    "    \"\"\"Truncate the text to fit within the maximum token limit.\"\"\"\n",
    "    words = text.split()\n",
    "    # Estimate that each word is approximately 4 tokens\n",
    "    max_words = max_tokens // 4\n",
    "    return \" \".join(words[:max_words])"
   ]
  },
  {
   "cell_type": "code",
   "execution_count": 10,
   "metadata": {},
   "outputs": [],
   "source": [
    "# Function to generate embeddings for each article\n",
    "def get_embedding(text):\n",
    "    truncated_text = truncate_text(text)\n",
    "    response = openai.embeddings.create(\n",
    "        input=truncated_text,\n",
    "        model=\"text-embedding-3-small\"\n",
    "    )\n",
    "    return response.data[0].embedding"
   ]
  },
  {
   "cell_type": "code",
   "execution_count": 11,
   "metadata": {},
   "outputs": [],
   "source": [
    "# Generate embeddings for all articles\n",
    "embeddings = [get_embedding(article) for article in articles]"
   ]
  },
  {
   "cell_type": "markdown",
   "metadata": {},
   "source": [
    "Step 3: Cluster embeddings"
   ]
  },
  {
   "cell_type": "code",
   "execution_count": 12,
   "metadata": {},
   "outputs": [],
   "source": [
    "# Function to cluster embeddings using KMeans\n",
    "def cluster_embeddings(embeddings, n_clusters=5):\n",
    "    kmeans = KMeans(n_clusters=n_clusters, random_state=42)\n",
    "    kmeans.fit(embeddings)\n",
    "    return kmeans.labels_"
   ]
  },
  {
   "cell_type": "code",
   "execution_count": 13,
   "metadata": {},
   "outputs": [],
   "source": [
    "# Cluster the articles into themes\n",
    "labels = cluster_embeddings(embeddings, n_clusters=5)"
   ]
  },
  {
   "cell_type": "markdown",
   "metadata": {},
   "source": [
    "Step 4: Cluster summaries"
   ]
  },
  {
   "cell_type": "code",
   "execution_count": 19,
   "metadata": {},
   "outputs": [],
   "source": [
    "# Function to summarize the articles in each cluster\n",
    "def extract_refined_trends(text):\n",
    "\n",
    "    response = openai.chat.completions.create(\n",
    "        model=\"gpt-4o-mini\",\n",
    "        messages=[\n",
    "            {\"role\": \"system\", \"content\": \"You are a fashion trends analyst.\"},\n",
    "            {\"role\": \"user\", \"content\": f\"List and describe the key fashion trends for fall 2024, condensing similar trends across these articles: {text}\"}\n",
    "        ]\n",
    "    )\n",
    "    return response.choices[0].message.content"
   ]
  },
  {
   "cell_type": "code",
   "execution_count": 17,
   "metadata": {},
   "outputs": [],
   "source": [
    "# Combine articles by clusters and extract global trends\n",
    "clustered_articles = [\" \".join([articles[i] for i in range(len(labels)) if labels[i] == label]) for label in set(labels)]\n",
    "global_trends = extract_refined_trends(\" \".join(clustered_articles))"
   ]
  },
  {
   "cell_type": "markdown",
   "metadata": {},
   "source": [
    "Step 5: Keywords"
   ]
  },
  {
   "cell_type": "code",
   "execution_count": 18,
   "metadata": {},
   "outputs": [],
   "source": [
    "def deduplicate_trends(trends_list):\n",
    "    vectorizer = TfidfVectorizer(stop_words='english')\n",
    "    X = vectorizer.fit_transform(trends_list)\n",
    "    \n",
    "    # Compute cosine similarity matrix\n",
    "    similarity_matrix = cosine_similarity(X)\n",
    "    unique_trends = []\n",
    "    \n",
    "    # Set a similarity threshold (e.g., 0.7)\n",
    "    threshold = 0.7\n",
    "    added = set()\n",
    "    \n",
    "    for i in range(len(trends_list)):\n",
    "        if i not in added:\n",
    "            similar_indices = np.where(similarity_matrix[i] > threshold)[0]\n",
    "            merged_trend = \" \".join([trends_list[j] for j in similar_indices if j not in added])\n",
    "            unique_trends.append(merged_trend)\n",
    "            added.update(similar_indices)\n",
    "    \n",
    "    return unique_trends"
   ]
  },
  {
   "cell_type": "code",
   "execution_count": 23,
   "metadata": {},
   "outputs": [],
   "source": [
    "# Deduplicate and merge similar trends\n",
    "unique_trends = deduplicate_trends(global_trends.split('\\n'))"
   ]
  },
  {
   "cell_type": "code",
   "execution_count": 25,
   "metadata": {},
   "outputs": [
    {
     "name": "stdout",
     "output_type": "stream",
     "text": [
      "For Fall 2024, the fashion landscape showcases dynamic trends that blend nostalgia with modern updates. Here’s a concise overview of the key trends set to define the season 1. **Boho 3.0** 2. **Country House Chic** 3. **Denim on Denim** 4. **Riding Boots Revival** 5. **Burgundy Accessories** 6. **Statement Studs** 7. **Preppy Style** 8. **Chunky Loafers** 9. **Leopard Print** 10. **Butter Yellow** 11. **T-Bar Shoes** 12. **Faux Fur for All** 13. **Neckties** 14. **Glove Flats**\n"
     ]
    }
   ],
   "source": [
    "trend_dict = {}\n",
    "for trend in unique_trends:\n",
    "    if ':' in trend:\n",
    "        trend_name, trend_description = trend.split(':', 1)\n",
    "        trend_dict[trend_name.strip()] = trend_description.strip()\n",
    "\n",
    "# Print final trend dictionary\n",
    "print(trend_dict)"
   ]
  },
  {
   "cell_type": "code",
   "execution_count": 35,
   "metadata": {},
   "outputs": [
    {
     "name": "stdout",
     "output_type": "stream",
     "text": [
      "For Fall 2024, the fashion landscape showcases dynamic trends that blend nostalgia with modern updates. Here’s a concise overview of the key trends set to define the season\n",
      "1. **Boho 3.0**\n",
      "2. **Country House Chic**\n",
      "3. **Denim on Denim**\n",
      "4. **Riding Boots Revival**\n",
      "5. **Burgundy Accessories**\n",
      "6. **Statement Studs**\n",
      "7. **Preppy Style**\n",
      "8. **Chunky Loafers**\n",
      "9. **Leopard Print**\n",
      "10. **Butter Yellow**\n",
      "11. **T-Bar Shoes**\n",
      "12. **Faux Fur for All**\n",
      "13. **Neckties**\n",
      "14. **Glove Flats**\n",
      "Animal print, particularly leopard, resurfaces as a bold choice across collections. From full outfits to accessories, this trend adds a touch of wild elegance to wardrobes.\n"
     ]
    }
   ],
   "source": [
    "keys = trend_dict\n",
    "for key in keys:\n",
    "    print(key)\n",
    "\n",
    "print(trend_dict[\"9. **Leopard Print**\"])"
   ]
  },
  {
   "cell_type": "code",
   "execution_count": null,
   "metadata": {},
   "outputs": [],
   "source": []
  }
 ],
 "metadata": {
  "kernelspec": {
   "display_name": "gode",
   "language": "python",
   "name": "python3"
  },
  "language_info": {
   "codemirror_mode": {
    "name": "ipython",
    "version": 3
   },
   "file_extension": ".py",
   "mimetype": "text/x-python",
   "name": "python",
   "nbconvert_exporter": "python",
   "pygments_lexer": "ipython3",
   "version": "3.11.0"
  }
 },
 "nbformat": 4,
 "nbformat_minor": 2
}
